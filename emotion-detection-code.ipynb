{
 "cells": [
  {
   "cell_type": "code",
   "execution_count": 2,
   "id": "b8d8d746",
   "metadata": {},
   "outputs": [
    {
     "ename": "ModuleNotFoundError",
     "evalue": "No module named 'pandas'",
     "output_type": "error",
     "traceback": [
      "\u001b[1;31m---------------------------------------------------------------------------\u001b[0m",
      "\u001b[1;31mModuleNotFoundError\u001b[0m                       Traceback (most recent call last)",
      "Cell \u001b[1;32mIn[2], line 2\u001b[0m\n\u001b[0;32m      1\u001b[0m \u001b[38;5;66;03m# 📦 Step 1: Import Libraries\u001b[39;00m\n\u001b[1;32m----> 2\u001b[0m \u001b[38;5;28;01mimport\u001b[39;00m\u001b[38;5;250m \u001b[39m\u001b[38;5;21;01mpandas\u001b[39;00m\u001b[38;5;250m \u001b[39m\u001b[38;5;28;01mas\u001b[39;00m\u001b[38;5;250m \u001b[39m\u001b[38;5;21;01mpd\u001b[39;00m\n\u001b[0;32m      3\u001b[0m \u001b[38;5;28;01mfrom\u001b[39;00m\u001b[38;5;250m \u001b[39m\u001b[38;5;21;01msklearn\u001b[39;00m\u001b[38;5;21;01m.\u001b[39;00m\u001b[38;5;21;01mfeature_extraction\u001b[39;00m\u001b[38;5;21;01m.\u001b[39;00m\u001b[38;5;21;01mtext\u001b[39;00m\u001b[38;5;250m \u001b[39m\u001b[38;5;28;01mimport\u001b[39;00m TfidfVectorizer\n\u001b[0;32m      4\u001b[0m \u001b[38;5;28;01mfrom\u001b[39;00m\u001b[38;5;250m \u001b[39m\u001b[38;5;21;01msklearn\u001b[39;00m\u001b[38;5;21;01m.\u001b[39;00m\u001b[38;5;21;01mlinear_model\u001b[39;00m\u001b[38;5;250m \u001b[39m\u001b[38;5;28;01mimport\u001b[39;00m LogisticRegression\n",
      "\u001b[1;31mModuleNotFoundError\u001b[0m: No module named 'pandas'"
     ]
    }
   ],
   "source": [
    "\n",
    "\n",
    "# 📦 Step 1: Import Libraries\n",
    "import pandas as pd\n",
    "from sklearn.feature_extraction.text import TfidfVectorizer\n",
    "from sklearn.linear_model import LogisticRegression\n",
    "from sklearn.metrics import classification_report, accuracy_score\n",
    "import joblib\n",
    "from sklearn.metrics import confusion_matrix, ConfusionMatrixDisplay\n",
    "import matplotlib.pyplot as plt\n",
    "\n",
    "# 📥 Step 2: Load Datasets\n",
    "train_df = pd.read_csv('train.csv')\n",
    "val_df = pd.read_csv('valid.csv')\n",
    "test_df = pd.read_csv('test.csv')\n",
    "\n",
    "# 🛠️ Step 3: Prepare Data\n",
    "X_train = train_df['text']\n",
    "y_train = train_df['emotion']\n",
    "\n",
    "X_val = val_df['text']\n",
    "y_val = val_df['emotion']\n",
    "\n",
    "X_test = test_df['text']\n",
    "y_test = test_df['emotion']\n",
    "\n",
    "# ✨ Step 4: Vectorize Text Data\n",
    "vectorizer = TfidfVectorizer(max_features=5000)\n",
    "X_train_tfidf = vectorizer.fit_transform(X_train)\n",
    "X_val_tfidf = vectorizer.transform(X_val)\n",
    "X_test_tfidf = vectorizer.transform(X_test)\n",
    "\n",
    "# 🧠 Step 5: Train the Model\n",
    "model = LogisticRegression(max_iter=1000, class_weight='balanced')\n",
    "model.fit(X_train_tfidf, y_train)\n",
    "\n",
    "# 📊 Step 6: Validate the Model\n",
    "y_val_pred = model.predict(X_val_tfidf)\n",
    "print(\"\\nValidation Performance:\")\n",
    "print(f\"Accuracy: {accuracy_score(y_val, y_val_pred)}\")\n",
    "print(classification_report(y_val, y_val_pred))\n",
    "\n",
    "# Confusion Matrix for Validation Set\n",
    "val_cm = confusion_matrix(y_val, y_val_pred, labels=model.classes_)\n",
    "disp = ConfusionMatrixDisplay(confusion_matrix=val_cm, display_labels=model.classes_)\n",
    "disp.plot(cmap='Blues')\n",
    "plt.title('Confusion Matrix - Validation Set')\n",
    "plt.show()\n",
    "\n",
    "# 🧪 Step 7: Test the Model\n",
    "y_test_pred = model.predict(X_test_tfidf)\n",
    "print(\"\\nTest Performance:\")\n",
    "print(f\"Accuracy: {accuracy_score(y_test, y_test_pred)}\")\n",
    "print(classification_report(y_test, y_test_pred))\n",
    "\n",
    "# 💾 Step 8: Save the Model and Vectorizer\n",
    "joblib.dump(model, 'emotion_model.pkl')\n",
    "joblib.dump(vectorizer, 'tfidf_vectorizer.pkl')\n",
    "print(\"\\nModel and vectorizer have been saved successfully!\")\n",
    "\n",
    "     "
   ]
  }
 ],
 "metadata": {
  "kernelspec": {
   "display_name": "Python 3",
   "language": "python",
   "name": "python3"
  },
  "language_info": {
   "codemirror_mode": {
    "name": "ipython",
    "version": 3
   },
   "file_extension": ".py",
   "mimetype": "text/x-python",
   "name": "python",
   "nbconvert_exporter": "python",
   "pygments_lexer": "ipython3",
   "version": "3.10.0"
  }
 },
 "nbformat": 4,
 "nbformat_minor": 5
}
